{
 "cells": [
  {
   "cell_type": "code",
   "execution_count": null,
   "id": "38317265-74e1-47f0-8481-371cfdf05603",
   "metadata": {},
   "outputs": [
    {
     "name": "stdout",
     "output_type": "stream",
     "text": [
      "[[  6  29 -20]\n",
      " [ 12  52  38]\n",
      " [-18 -51 -48]]\n"
     ]
    }
   ],
   "source": [
    "import numpy as np\n",
    "\n",
    "A = np.array([[-1, 2, 3], [4, -5, 6], [7, 8, -9]])\n",
    "B = np.array([[0, 2, 1], [0, 2, -8], [2, 9, -1]])\n",
    "\n",
    "C = np.dot(A, B)  # Ou C = A @ B\n",
    "\n",
    "print(C)\n"
   ]
  },
  {
   "cell_type": "code",
   "execution_count": 4,
   "id": "1587bdfc",
   "metadata": {},
   "outputs": [
    {
     "name": "stdout",
     "output_type": "stream",
     "text": [
      "Result using np.matmul():\n",
      " [[  6  29 -20]\n",
      " [ 12  52  38]\n",
      " [-18 -51 -48]]\n",
      "Result using np.dot():\n",
      " [[  6  29 -20]\n",
      " [ 12  52  38]\n",
      " [-18 -51 -48]]\n",
      "Result using operator '@':\n",
      " [[  6  29 -20]\n",
      " [ 12  52  38]\n",
      " [-18 -51 -48]]\n"
     ]
    }
   ],
   "source": [
    "# using np.matmul()\n",
    "C_matmul = np.matmul(A, B)\n",
    "\n",
    "# using usando np.dot()\n",
    "C_dot = np.dot(A, B)\n",
    "\n",
    "# using operator \"@\"\n",
    "C_at = A @ B\n",
    "\n",
    "print(\"Result using np.matmul():\\n\", C_matmul)\n",
    "print(\"Result using np.dot():\\n\", C_dot)\n",
    "print(\"Result using operator '@':\\n\", C_at)\n"
   ]
  },
  {
   "cell_type": "code",
   "execution_count": 5,
   "id": "2d14da06",
   "metadata": {},
   "outputs": [
    {
     "name": "stdout",
     "output_type": "stream",
     "text": [
      "Element (0,0) of the product matrix: 6\n"
     ]
    }
   ],
   "source": [
    "# Compute the (0,0) element manually\n",
    "result_00 = (A[0, 0] * B[0, 0]) + (A[0, 1] * B[1, 0]) + (A[0, 2] * B[2, 0])\n",
    "\n",
    "# Print the result\n",
    "print(\"Element (0,0) of the product matrix:\", result_00)"
   ]
  },
  {
   "cell_type": "code",
   "execution_count": null,
   "id": "32d12662",
   "metadata": {},
   "outputs": [
    {
     "name": "stdout",
     "output_type": "stream",
     "text": [
      "Matrix product of A and B:\n",
      " [[  6.  29. -20.]\n",
      " [ 12.  52.  38.]\n",
      " [-18. -51. -48.]]\n"
     ]
    }
   ],
   "source": [
    "import numpy as np\n",
    "\n",
    "def matrix_product(A, B):\n",
    "    # Get dimensions of A and B\n",
    "    rows_A, cols_A = A.shape\n",
    "    rows_B, cols_B = B.shape\n",
    "    \n",
    "    # Ensure matrix multiplication is valid (columns of A must match rows of B)\n",
    "    if cols_A != rows_B:\n",
    "        raise ValueError(\"Number of columns in A must match the number of rows in B.\")\n",
    "\n",
    "    # Initialize result matrix with zeros\n",
    "    C = np.zeros((rows_A, cols_B))\n",
    "\n",
    "    # Compute each element of the result matrix\n",
    "    for i in range(rows_A):  # Iterate through rows of A\n",
    "        for j in range(cols_B):  # Iterate through columns of B\n",
    "            for k in range(cols_A):  # Iterate through columns of A / rows of B\n",
    "                C[i, j] += A[i, k] * B[k, j]  # Multiply and sum\n",
    "\n",
    "    return C\n",
    "\n",
    "# Compute the matrix product\n",
    "C = matrix_product(A, B)\n",
    "\n",
    "# Print result\n",
    "print(\"Matrix product of A and B:\\n\", C)\n"
   ]
  },
  {
   "cell_type": "code",
   "execution_count": 8,
   "id": "064d9bb7",
   "metadata": {},
   "outputs": [
    {
     "name": "stdout",
     "output_type": "stream",
     "text": [
      "Error: Cannot multiply matrices of shape (2, 3) and (2, 3).\n",
      "The number of columns in the first matrix must match the number of rows in the second matrix.\n"
     ]
    }
   ],
   "source": [
    "import numpy as np\n",
    "\n",
    "def matrix_product(A, B):\n",
    "    # Get dimensions of A and B\n",
    "    rows_A, cols_A = A.shape\n",
    "    rows_B, cols_B = B.shape\n",
    "    \n",
    "    # Ensure matrix multiplication is valid\n",
    "    if cols_A != rows_B:\n",
    "        print(f\"Error: Cannot multiply matrices of shape {A.shape} and {B.shape}.\")\n",
    "        print(\"The number of columns in the first matrix must match the number of rows in the second matrix.\")\n",
    "        return None  # Return None to indicate failure\n",
    "\n",
    "    # Initialize result matrix with zeros\n",
    "    C = np.zeros((rows_A, cols_B))\n",
    "\n",
    "    # Compute each element of the result matrix\n",
    "    for i in range(rows_A):  # Iterate through rows of A\n",
    "        for j in range(cols_B):  # Iterate through columns of B\n",
    "            for k in range(cols_A):  # Iterate through columns of A / rows of B\n",
    "                C[i, j] += A[i, k] * B[k, j]  # Multiply and sum\n",
    "\n",
    "    return C\n",
    "\n",
    "# Define incompatible matrices D and E\n",
    "D = np.array([[-1, 2, 3], [4, -5, 6]])\n",
    "E = np.array([[-9, 8, 7], [6, -5, 4]])\n",
    "\n",
    "# Attempt to compute the matrix product\n",
    "result = matrix_product(D, E)\n",
    "\n",
    "# Print the result if multiplication was successful\n",
    "if result is not None:\n",
    "    print(\"Matrix product of D and E:\\n\", result)\n"
   ]
  },
  {
   "cell_type": "code",
   "execution_count": 11,
   "id": "e55d8bf9",
   "metadata": {},
   "outputs": [
    {
     "name": "stdout",
     "output_type": "stream",
     "text": [
      "[[ 46  -4]\n",
      " [-34  73]]\n"
     ]
    }
   ],
   "source": [
    "import numpy as np\n",
    "\n",
    "# Transpose of E\n",
    "E_transposed = E.T\n",
    "\n",
    "# Product of D by E transposed\n",
    "result = np.matmul(D, E_transposed)\n",
    "\n",
    "print(result)\n"
   ]
  }
 ],
 "metadata": {
  "kernelspec": {
   "display_name": "Python 3",
   "language": "python",
   "name": "python3"
  },
  "language_info": {
   "codemirror_mode": {
    "name": "ipython",
    "version": 3
   },
   "file_extension": ".py",
   "mimetype": "text/x-python",
   "name": "python",
   "nbconvert_exporter": "python",
   "pygments_lexer": "ipython3",
   "version": "3.9.8"
  }
 },
 "nbformat": 4,
 "nbformat_minor": 5
}
