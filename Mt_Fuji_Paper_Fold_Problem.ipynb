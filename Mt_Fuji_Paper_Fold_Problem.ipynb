{
 "cells": [
  {
   "cell_type": "code",
   "execution_count": 1,
   "id": "88f4cf0d-b307-443e-943d-f9d4bebb20a5",
   "metadata": {},
   "outputs": [
    {
     "name": "stdout",
     "output_type": "stream",
     "text": [
      "Number of folds required to exceed Mt. Fuji height: 26\n"
     ]
    }
   ],
   "source": [
    "import math\n",
    "\n",
    "# Constants\n",
    "t0 = 0.00008  # Initial thickness in meters\n",
    "mt_fuji_height = 3776  # Mt. Fuji height in meters\n",
    "\n",
    "# Calculate the number of folds required\n",
    "n_folds = math.ceil(math.log(mt_fuji_height / t0, 2))\n",
    "print(f\"Number of folds required to exceed Mt. Fuji height: {n_folds}\")\n"
   ]
  },
  {
   "cell_type": "code",
   "execution_count": 2,
   "id": "55098c67-d978-42be-b229-924797feec3d",
   "metadata": {},
   "outputs": [
    {
     "name": "stdout",
     "output_type": "stream",
     "text": [
      "Number of folds needed to exceed the distance to Proxima Centauri: 69\n"
     ]
    }
   ],
   "source": [
    "import math\n",
    "\n",
    "def folds_to_exceed_height(height, t0=0.00008):\n",
    "    # Calculate the number of folds required for the thickness to exceed the given height\n",
    "    folds = math.ceil(math.log(height / t0, 2))\n",
    "    return folds\n",
    "\n",
    "# Distance to Proxima Centauri\n",
    "proxima_centauri_distance = 4.0175e16\n",
    "\n",
    "# Calculate the folds needed to exceed the distance to Proxima Centauri\n",
    "result = folds_to_exceed_height(proxima_centauri_distance)\n",
    "print(f\"Number of folds needed to exceed the distance to Proxima Centauri: {result}\")\n"
   ]
  },
  {
   "cell_type": "code",
   "execution_count": 3,
   "id": "38317265-74e1-47f0-8481-371cfdf05603",
   "metadata": {},
   "outputs": [
    {
     "name": "stdout",
     "output_type": "stream",
     "text": [
      "Length of paper required to reach Mt. Fuji: 188646348487.24017 meters\n",
      "Length of paper required to reach the Moon: 3.240919444170781e+21 meters\n",
      "Length of paper required to reach Proxima Centauri: 1.4595803601100348e+37 meters\n"
     ]
    }
   ],
   "source": [
    "import math\n",
    "\n",
    "def paper_length_required(n_folds, t0=0.00008):\n",
    "    # Formula to calculate the required length of paper to achieve n folds\n",
    "    L = (math.pi * t0 / 6) * ((2 ** n_folds + 4) * (2 ** n_folds - 1))\n",
    "    return L\n",
    "\n",
    "# Number of folds to reach Mt. Fuji (as calculated in Problem 1)\n",
    "mount_fuji_folds = folds_to_exceed_height(3776)\n",
    "\n",
    "# Calculate the length of paper required to reach Mt. Fuji\n",
    "length_fuji = paper_length_required(mount_fuji_folds)\n",
    "print(f\"Length of paper required to reach Mt. Fuji: {length_fuji} meters\")\n",
    "\n",
    "# Calculate the length of paper required to reach the Moon\n",
    "length_moon = paper_length_required(folds_to_exceed_height(384400000))\n",
    "print(f\"Length of paper required to reach the Moon: {length_moon} meters\")\n",
    "\n",
    "# Calculate the length of paper required to reach Proxima Centauri\n",
    "length_proxima = paper_length_required(folds_to_exceed_height(4.0175e16))\n",
    "print(f\"Length of paper required to reach Proxima Centauri: {length_proxima} meters\")\n"
   ]
  }
 ],
 "metadata": {
  "kernelspec": {
   "display_name": "Python 3",
   "language": "python",
   "name": "python3"
  },
  "language_info": {
   "codemirror_mode": {
    "name": "ipython",
    "version": 3
   },
   "file_extension": ".py",
   "mimetype": "text/x-python",
   "name": "python",
   "nbconvert_exporter": "python",
   "pygments_lexer": "ipython3",
   "version": "3.9.8"
  }
 },
 "nbformat": 4,
 "nbformat_minor": 5
}
